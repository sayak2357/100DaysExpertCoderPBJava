{
 "cells": [
  {
   "cell_type": "code",
   "execution_count": 5,
   "id": "0956ee08",
   "metadata": {},
   "outputs": [
    {
     "name": "stdout",
     "output_type": "stream",
     "text": [
      "1\n",
      "4\n",
      "15 2 7 3\n",
      "4\n"
     ]
    }
   ],
   "source": [
    "def inversionCount(A):\n",
    "    def merge(arr,start,mid,end):\n",
    "        mergedArr=[]\n",
    "        i=start\n",
    "        j=mid+1\n",
    "        #inversionCount=0\n",
    "        nonlocal inversionCount\n",
    "        while i<=mid and j<=end:\n",
    "            if arr[i]<=arr[j]:\n",
    "                mergedArr.append(arr[i])\n",
    "                i+=1\n",
    "            else:\n",
    "                mergedArr.append(arr[j])\n",
    "                inversionCount+=mid-i+1\n",
    "                j+=1\n",
    "        while i<=mid:\n",
    "            mergedArr.append(arr[i])\n",
    "            i+=1\n",
    "        while j<=end:\n",
    "            mergedArr.append(arr[j])\n",
    "            j+=1\n",
    "        for i in range(start,end+1):\n",
    "            arr[i]=mergedArr[i-start]\n",
    "        return\n",
    "    def mergeSort(arr,start,end):\n",
    "        if start<end:\n",
    "            mid=(start+end)//2\n",
    "            mergeSort(arr,start,mid)\n",
    "            mergeSort(arr,mid+1,end)\n",
    "            merge(arr,start,mid,end)\n",
    "        return\n",
    "    l=len(A)\n",
    "    inversionCount=0\n",
    "    mergeSort(A,0,l-1)\n",
    "    return inversionCount\n",
    "\n",
    "def set_bit_count(num):\n",
    "    set_bits = 0\n",
    "    \n",
    "    while num>0:\n",
    "        if num%2==1:\n",
    "            set_bits+=1\n",
    "        num //= 2\n",
    "    return set_bits\n",
    "tc = int(input())\n",
    "for d in range(tc):\n",
    "    n = int(input())\n",
    "    arr = [int(x) for x in input().split(' ')]\n",
    "    arr_set_bit_count = [set_bit_count(x) for x in arr]\n",
    "    print(inversionCount(arr_set_bit_count))\n",
    "\n"
   ]
  },
  {
   "cell_type": "code",
   "execution_count": null,
   "id": "2fcee9a3",
   "metadata": {},
   "outputs": [],
   "source": []
  }
 ],
 "metadata": {
  "kernelspec": {
   "display_name": "Python 3",
   "language": "python",
   "name": "python3"
  },
  "language_info": {
   "codemirror_mode": {
    "name": "ipython",
    "version": 3
   },
   "file_extension": ".py",
   "mimetype": "text/x-python",
   "name": "python",
   "nbconvert_exporter": "python",
   "pygments_lexer": "ipython3",
   "version": "3.8.10"
  }
 },
 "nbformat": 4,
 "nbformat_minor": 5
}
