{
 "cells": [
  {
   "cell_type": "code",
   "execution_count": 2,
   "id": "56fcd604",
   "metadata": {},
   "outputs": [
    {
     "name": "stdout",
     "output_type": "stream",
     "text": [
      "1\n",
      "10 2\n",
      "E holy 23\n",
      "E holy 12\n",
      "D\n",
      "holy 12\n",
      "E holy 45\n",
      "E holy 66\n",
      "D\n",
      "holy 23\n",
      "D\n",
      "holy 45\n",
      "D\n"
     ]
    },
    {
     "ename": "IndexError",
     "evalue": "list index out of range",
     "output_type": "error",
     "traceback": [
      "\u001b[0;31m---------------------------------------------------------------------------\u001b[0m",
      "\u001b[0;31mIndexError\u001b[0m                                Traceback (most recent call last)",
      "\u001b[0;32m<ipython-input-2-0c26791f39ed>\u001b[0m in \u001b[0;36m<module>\u001b[0;34m\u001b[0m\n\u001b[1;32m     25\u001b[0m                 \u001b[0mhash_map\u001b[0m\u001b[0;34m[\u001b[0m\u001b[0mschool\u001b[0m\u001b[0;34m]\u001b[0m \u001b[0;34m=\u001b[0m \u001b[0mroll_list\u001b[0m\u001b[0;34m\u001b[0m\u001b[0;34m\u001b[0m\u001b[0m\n\u001b[1;32m     26\u001b[0m         \u001b[0;32melse\u001b[0m\u001b[0;34m:\u001b[0m\u001b[0;34m\u001b[0m\u001b[0;34m\u001b[0m\u001b[0m\n\u001b[0;32m---> 27\u001b[0;31m             \u001b[0mschool\u001b[0m \u001b[0;34m=\u001b[0m \u001b[0mqueue\u001b[0m\u001b[0;34m[\u001b[0m\u001b[0;36m0\u001b[0m\u001b[0;34m]\u001b[0m\u001b[0;34m\u001b[0m\u001b[0;34m\u001b[0m\u001b[0m\n\u001b[0m\u001b[1;32m     28\u001b[0m             \u001b[0mroll_list\u001b[0m \u001b[0;34m=\u001b[0m \u001b[0mhash_map\u001b[0m\u001b[0;34m[\u001b[0m\u001b[0mschool\u001b[0m\u001b[0;34m]\u001b[0m\u001b[0;34m\u001b[0m\u001b[0;34m\u001b[0m\u001b[0m\n\u001b[1;32m     29\u001b[0m             \u001b[0mprint\u001b[0m\u001b[0;34m(\u001b[0m\u001b[0mschool\u001b[0m\u001b[0;34m+\u001b[0m\u001b[0;34m\" \"\u001b[0m\u001b[0;34m+\u001b[0m\u001b[0mstr\u001b[0m\u001b[0;34m(\u001b[0m\u001b[0mroll_list\u001b[0m\u001b[0;34m[\u001b[0m\u001b[0;36m0\u001b[0m\u001b[0;34m]\u001b[0m\u001b[0;34m)\u001b[0m\u001b[0;34m)\u001b[0m\u001b[0;34m\u001b[0m\u001b[0;34m\u001b[0m\u001b[0m\n",
      "\u001b[0;31mIndexError\u001b[0m: list index out of range"
     ]
    }
   ],
   "source": [
    "tc = int(input())\n",
    "\n",
    "for x in range(tc):\n",
    "    ip = [int(x)for x in input().split(' ')]\n",
    "    q = ip[0]\n",
    "    k = ip[1]\n",
    "    queue = []\n",
    "    hash_map = {}\n",
    "    \n",
    "    for Q in range(q):\n",
    "        ip2 = [y for y in input().split(' ')]\n",
    "        if ip2[0]=='E':\n",
    "            school = ip2[1]\n",
    "            roll = int(ip2[2])\n",
    "            if school not in hash_map:\n",
    "                queue.append(school)\n",
    "                hash_map[school] = [roll]\n",
    "            else:\n",
    "                roll_list = hash_map[school]\n",
    "                length = len(roll_list)\n",
    "                if length>=k:\n",
    "                    continue\n",
    "                roll_list.append(roll)\n",
    "                roll_list.sort()\n",
    "                hash_map[school] = roll_list\n",
    "        else:\n",
    "            school = queue[0]\n",
    "            roll_list = hash_map[school]\n",
    "            print(school+\" \"+str(roll_list[0]))\n",
    "            roll_list.pop(0)\n",
    "            hash_map[school] = roll_list\n",
    "            if len(roll_list)==0:\n",
    "                del hash_map[school]\n",
    "                queue.pop(0)\n",
    "            \n",
    "            "
   ]
  },
  {
   "cell_type": "code",
   "execution_count": null,
   "id": "741b0a72",
   "metadata": {},
   "outputs": [],
   "source": [
    "Sample input:\n",
    "1\n",
    "5 2\n",
    "E rzowkkyhidd 23\n",
    "E scd 22\n",
    "D\n",
    "E scd 3\n",
    "D\n",
    "\n",
    "Output:\n",
    "rzowkkyhidd 23\n",
    "scd 3"
   ]
  }
 ],
 "metadata": {
  "kernelspec": {
   "display_name": "Python 3",
   "language": "python",
   "name": "python3"
  },
  "language_info": {
   "codemirror_mode": {
    "name": "ipython",
    "version": 3
   },
   "file_extension": ".py",
   "mimetype": "text/x-python",
   "name": "python",
   "nbconvert_exporter": "python",
   "pygments_lexer": "ipython3",
   "version": "3.8.10"
  }
 },
 "nbformat": 4,
 "nbformat_minor": 5
}
